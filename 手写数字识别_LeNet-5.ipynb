{
 "cells": [
  {
   "cell_type": "code",
   "execution_count": 1,
   "id": "ba536875",
   "metadata": {},
   "outputs": [],
   "source": [
    "import matplotlib.pyplot as plt\n",
    "\n",
    "# 支持多行输出\n",
    "from IPython.core.interactiveshell import InteractiveShell \n",
    "InteractiveShell.ast_node_interactivity = 'all' #默认为'last'\n",
    "\n",
    "# 中文的正常显示\n",
    "plt.rcParams['font.sans-serif']=['SimHei'] \n",
    "\n",
    "#用来正常坐标轴的数字的负号\n",
    "plt.rcParams['axes.unicode_minus']=False"
   ]
  },
  {
   "cell_type": "markdown",
   "id": "4bdcb035",
   "metadata": {},
   "source": [
    "# LeNet-5识别手写数字"
   ]
  },
  {
   "cell_type": "markdown",
   "id": "368d88e9",
   "metadata": {},
   "source": [
    "## 导入数据 "
   ]
  },
  {
   "cell_type": "code",
   "execution_count": 2,
   "id": "3be41cbb",
   "metadata": {},
   "outputs": [],
   "source": [
    "# 起始处导入tf和tensorflow.keras，每次使用Keras函数从Keras出发\n",
    "import tensorflow as tf\n",
    "import tensorflow.keras as keras # 此处不能写成import tf.keras as keras\n",
    "from tensorflow.keras.utils import to_categorical #导入独热编码函数\n",
    "from tensorflow.keras.datasets import mnist # 导入加载数据集函数\n",
    "import numpy as np\n",
    "\n",
    "(x_Train, y_Train), (x_Test, y_Test) = mnist.load_data()"
   ]
  },
  {
   "cell_type": "code",
   "execution_count": 3,
   "id": "8b6fbd4b",
   "metadata": {},
   "outputs": [
    {
     "data": {
      "text/plain": [
       "(60000, 28, 28)"
      ]
     },
     "execution_count": 3,
     "metadata": {},
     "output_type": "execute_result"
    }
   ],
   "source": [
    "x_Train.shape"
   ]
  },
  {
   "cell_type": "code",
   "execution_count": 4,
   "id": "e676a5a9",
   "metadata": {},
   "outputs": [],
   "source": [
    "x_Train4D = x_Train.reshape(x_Train.shape[0],28,28,1).astype('float32')\n",
    "\n",
    "x_Test4D = x_Test.reshape(x_Test.shape[0],28,28,1).astype('float32')\n",
    "\n",
    "x_Train4D_normalize = x_Train4D / 255\n",
    "x_Test4D_normalize = x_Test4D / 255\n",
    "y_TrainOneHot = to_categorical(y_Train)\n",
    "y_TestOneHot = to_categorical(y_Test)"
   ]
  },
  {
   "cell_type": "markdown",
   "id": "a9c1e3b1",
   "metadata": {},
   "source": [
    "## 建立模型"
   ]
  },
  {
   "cell_type": "code",
   "execution_count": 5,
   "id": "6e524065",
   "metadata": {},
   "outputs": [
    {
     "name": "stdout",
     "output_type": "stream",
     "text": [
      "Model: \"sequential\"\n",
      "_________________________________________________________________\n",
      " Layer (type)                Output Shape              Param #   \n",
      "=================================================================\n",
      " conv2d (Conv2D)             (None, 28, 28, 16)        416       \n",
      "                                                                 \n",
      " max_pooling2d (MaxPooling2D  (None, 14, 14, 16)       0         \n",
      " )                                                               \n",
      "                                                                 \n",
      " conv2d_1 (Conv2D)           (None, 14, 14, 36)        14436     \n",
      "                                                                 \n",
      " max_pooling2d_1 (MaxPooling  (None, 7, 7, 36)         0         \n",
      " 2D)                                                             \n",
      "                                                                 \n",
      " dropout (Dropout)           (None, 7, 7, 36)          0         \n",
      "                                                                 \n",
      " flatten (Flatten)           (None, 1764)              0         \n",
      "                                                                 \n",
      " dense (Dense)               (None, 128)               225920    \n",
      "                                                                 \n",
      " dropout_1 (Dropout)         (None, 128)               0         \n",
      "                                                                 \n",
      " dense_1 (Dense)             (None, 10)                1290      \n",
      "                                                                 \n",
      "=================================================================\n",
      "Total params: 242,062\n",
      "Trainable params: 242,062\n",
      "Non-trainable params: 0\n",
      "_________________________________________________________________\n",
      "None\n"
     ]
    }
   ],
   "source": [
    "model = keras.models.Sequential()\n",
    "\n",
    "model.add(keras.layers.Conv2D(filters=16,\n",
    "                 kernel_size=(5,5),\n",
    "                 padding='same',\n",
    "                 input_shape=(28,28,1), \n",
    "                 activation='relu')) # strides=(1, 1)是默认值\n",
    "model.add(keras.layers.MaxPooling2D(pool_size=(2, 2))) # strides=(2,2)是默认值\n",
    "\n",
    "model.add(keras.layers.Conv2D(filters=36,\n",
    "                 kernel_size=(5,5),\n",
    "                 padding='same',\n",
    "                 activation='relu'))\n",
    "model.add(keras.layers.MaxPooling2D(pool_size=(2, 2)))\n",
    "\n",
    "model.add(keras.layers.Dropout(0.25))\n",
    "\n",
    "model.add(keras.layers.Flatten())  # 展平\n",
    "\n",
    "model.add(keras.layers.Dense(128, activation='relu'))\n",
    "model.add(keras.layers.Dropout(0.5))\n",
    "\n",
    "model.add(keras.layers.Dense(10,activation='softmax'))\n",
    "print(model.summary())"
   ]
  },
  {
   "cell_type": "markdown",
   "id": "d332ea31",
   "metadata": {},
   "source": [
    "## 模型编译"
   ]
  },
  {
   "cell_type": "code",
   "execution_count": 6,
   "id": "14234831",
   "metadata": {},
   "outputs": [],
   "source": [
    "model.compile(loss='categorical_crossentropy',\n",
    "              optimizer='adam',\n",
    "              metrics=['accuracy'])"
   ]
  },
  {
   "cell_type": "markdown",
   "id": "ee0d38f8",
   "metadata": {},
   "source": [
    "## 模型训练"
   ]
  },
  {
   "cell_type": "code",
   "execution_count": 7,
   "id": "68fc48dc",
   "metadata": {},
   "outputs": [
    {
     "name": "stdout",
     "output_type": "stream",
     "text": [
      "Epoch 1/20\n",
      "160/160 [==============================] - 7s 11ms/step - loss: 0.4839 - accuracy: 0.8459 - val_loss: 0.1021 - val_accuracy: 0.9689\n",
      "Epoch 2/20\n",
      "160/160 [==============================] - 2s 10ms/step - loss: 0.1393 - accuracy: 0.9586 - val_loss: 0.0680 - val_accuracy: 0.9792\n",
      "Epoch 3/20\n",
      "160/160 [==============================] - 2s 10ms/step - loss: 0.1008 - accuracy: 0.9699 - val_loss: 0.0565 - val_accuracy: 0.9827\n",
      "Epoch 4/20\n",
      "160/160 [==============================] - 2s 10ms/step - loss: 0.0843 - accuracy: 0.9745 - val_loss: 0.0470 - val_accuracy: 0.9864\n",
      "Epoch 5/20\n",
      "160/160 [==============================] - 2s 10ms/step - loss: 0.0724 - accuracy: 0.9780 - val_loss: 0.0471 - val_accuracy: 0.9862\n",
      "Epoch 6/20\n",
      "160/160 [==============================] - 2s 10ms/step - loss: 0.0617 - accuracy: 0.9811 - val_loss: 0.0424 - val_accuracy: 0.9887\n",
      "Epoch 7/20\n",
      "160/160 [==============================] - 2s 10ms/step - loss: 0.0574 - accuracy: 0.9823 - val_loss: 0.0381 - val_accuracy: 0.9899\n",
      "Epoch 8/20\n",
      "160/160 [==============================] - 2s 10ms/step - loss: 0.0509 - accuracy: 0.9843 - val_loss: 0.0387 - val_accuracy: 0.9884\n",
      "Epoch 9/20\n",
      "160/160 [==============================] - 2s 10ms/step - loss: 0.0482 - accuracy: 0.9852 - val_loss: 0.0336 - val_accuracy: 0.9905\n",
      "Epoch 10/20\n",
      "160/160 [==============================] - 2s 10ms/step - loss: 0.0416 - accuracy: 0.9869 - val_loss: 0.0342 - val_accuracy: 0.9907\n",
      "Epoch 11/20\n",
      "160/160 [==============================] - 2s 10ms/step - loss: 0.0410 - accuracy: 0.9868 - val_loss: 0.0339 - val_accuracy: 0.9906\n",
      "Epoch 12/20\n",
      "160/160 [==============================] - 2s 10ms/step - loss: 0.0366 - accuracy: 0.9883 - val_loss: 0.0315 - val_accuracy: 0.9913\n",
      "Epoch 13/20\n",
      "160/160 [==============================] - 2s 10ms/step - loss: 0.0353 - accuracy: 0.9881 - val_loss: 0.0337 - val_accuracy: 0.9902\n",
      "Epoch 14/20\n",
      "160/160 [==============================] - 2s 10ms/step - loss: 0.0347 - accuracy: 0.9885 - val_loss: 0.0324 - val_accuracy: 0.9914\n",
      "Epoch 15/20\n",
      "160/160 [==============================] - 2s 10ms/step - loss: 0.0297 - accuracy: 0.9906 - val_loss: 0.0333 - val_accuracy: 0.9903\n",
      "Epoch 16/20\n",
      "160/160 [==============================] - 2s 10ms/step - loss: 0.0300 - accuracy: 0.9902 - val_loss: 0.0307 - val_accuracy: 0.9912\n",
      "Epoch 17/20\n",
      "160/160 [==============================] - 2s 10ms/step - loss: 0.0268 - accuracy: 0.9910 - val_loss: 0.0303 - val_accuracy: 0.9910\n",
      "Epoch 18/20\n",
      "160/160 [==============================] - 2s 10ms/step - loss: 0.0258 - accuracy: 0.9912 - val_loss: 0.0288 - val_accuracy: 0.9916\n",
      "Epoch 19/20\n",
      "160/160 [==============================] - 2s 10ms/step - loss: 0.0258 - accuracy: 0.9918 - val_loss: 0.0317 - val_accuracy: 0.9915\n",
      "Epoch 20/20\n",
      "160/160 [==============================] - 2s 10ms/step - loss: 0.0238 - accuracy: 0.9924 - val_loss: 0.0308 - val_accuracy: 0.9918\n"
     ]
    }
   ],
   "source": [
    "train_history = model.fit(x=x_Train4D_normalize, \n",
    "                          y=y_TrainOneHot,validation_split=0.2, \n",
    "                          epochs=20, \n",
    "                          batch_size=300,\n",
    "                          verbose=1 # verbose=1 可视化训练进度\n",
    "                         )"
   ]
  },
  {
   "cell_type": "markdown",
   "id": "40a3daa8",
   "metadata": {},
   "source": [
    "## 可视化训练过程"
   ]
  },
  {
   "cell_type": "code",
   "execution_count": 9,
   "id": "3013eb53",
   "metadata": {},
   "outputs": [],
   "source": [
    "def show_train_history(train_history,train,validation):\n",
    "    plt.plot(train_history.history[train])\n",
    "    plt.plot(train_history.history[validation])\n",
    "    plt.title('Train History')\n",
    "    plt.ylabel(train)\n",
    "    plt.xlabel('Epoch')\n",
    "    plt.legend(['train', 'validation'], loc='upper left')\n",
    "    plt.show()"
   ]
  },
  {
   "cell_type": "code",
   "execution_count": 10,
   "id": "f62ac6aa",
   "metadata": {},
   "outputs": [
    {
     "data": {
      "image/png": "[encoded data removed]",
      "text/plain": [
       "<Figure size 432x288 with 1 Axes>"
      ]
     },
     "metadata": {
      "needs_background": "light"
     },
     "output_type": "display_data"
    }
   ],
   "source": [
    "show_train_history(train_history,'accuracy','val_accuracy')"
   ]
  },
  {
   "cell_type": "code",
   "execution_count": 11,
   "id": "feabfa92",
   "metadata": {},
   "outputs": [
    {
     "data": {
      "image/png": "[encoded data removed]",
      "text/plain": [
       "<Figure size 432x288 with 1 Axes>"
      ]
     },
     "metadata": {
      "needs_background": "light"
     },
     "output_type": "display_data"
    }
   ],
   "source": [
    "show_train_history(train_history,'loss','val_loss')"
   ]
  },
  {
   "cell_type": "markdown",
   "id": "ecd49032",
   "metadata": {},
   "source": [
    "## 模型评估"
   ]
  },
  {
   "cell_type": "code",
   "execution_count": null,
   "id": "6ea40bf7",
   "metadata": {},
   "outputs": [],
   "source": [
    "scores = model.evaluate(x_Test4D_normalize , y_TestOneHot)\n",
    "scores[1]"
   ]
  },
  {
   "cell_type": "code",
   "execution_count": null,
   "id": "47ccfbc1",
   "metadata": {},
   "outputs": [],
   "source": []
  }
 ],
 "metadata": {
  "kernelspec": {
   "display_name": "Python 3 (ipykernel)",
   "language": "python",
   "name": "python3"
  },
  "language_info": {
   "codemirror_mode": {
    "name": "ipython",
    "version": 3
   },
   "file_extension": ".py",
   "mimetype": "text/x-python",
   "name": "python",
   "nbconvert_exporter": "python",
   "pygments_lexer": "ipython3",
   "version": "3.9.12"
  },
  "toc": {
   "base_numbering": 1,
   "nav_menu": {},
   "number_sections": true,
   "sideBar": true,
   "skip_h1_title": false,
   "title_cell": "Table of Contents",
   "title_sidebar": "Contents",
   "toc_cell": false,
   "toc_position": {
    "height": "calc(100% - 180px)",
    "left": "10px",
    "top": "150px",
    "width": "195.818px"
   },
   "toc_section_display": true,
   "toc_window_display": true
  }
 },
 "nbformat": 4,
 "nbformat_minor": 5
}
