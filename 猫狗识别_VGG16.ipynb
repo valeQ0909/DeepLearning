{
 "cells": [
  {
   "cell_type": "code",
   "execution_count": 1,
   "id": "7ee6ab7f",
   "metadata": {},
   "outputs": [
    {
     "data": {
      "text/plain": [
       "[PhysicalDevice(name='/physical_device:GPU:0', device_type='GPU')]"
      ]
     },
     "execution_count": 1,
     "metadata": {},
     "output_type": "execute_result"
    }
   ],
   "source": [
    "import matplotlib.pyplot as plt\n",
    "\n",
    "# 支持多行输出\n",
    "from IPython.core.interactiveshell import InteractiveShell \n",
    "InteractiveShell.ast_node_interactivity = 'all' #默认为'last'\n",
    "\n",
    "# 中文的正常显示\n",
    "plt.rcParams['font.sans-serif']=['SimHei'] \n",
    "\n",
    "#用来正常坐标轴的数字的负号\n",
    "plt.rcParams['axes.unicode_minus']=False\n",
    "\n",
    "import tensorflow as tf\n",
    "tf.config.list_physical_devices('GPU')"
   ]
  },
  {
   "cell_type": "markdown",
   "id": "8c77d928",
   "metadata": {},
   "source": [
    "# 读取数据"
   ]
  },
  {
   "cell_type": "code",
   "execution_count": 2,
   "id": "3c28cafd",
   "metadata": {},
   "outputs": [
    {
     "name": "stdout",
     "output_type": "stream",
     "text": [
      "卷 大数据与人工智能 的文件夹 PATH 列表\n",
      "卷序列号为 0000007D 0C3E:0BA7\n",
      "E:\\DEEPLEARNING\\DATA\\CATS_AND_DOGS_SMALL\n",
      "├─test\n",
      "│  ├─cats\n",
      "│  └─dogs\n",
      "├─train\n",
      "│  ├─cats\n",
      "│  └─dogs\n",
      "└─validation\n",
      "    ├─cats\n",
      "    └─dogs\n"
     ]
    }
   ],
   "source": [
    "!tree data/cats_and_dogs_small"
   ]
  },
  {
   "cell_type": "code",
   "execution_count": 3,
   "id": "ccc8cc9a",
   "metadata": {},
   "outputs": [
    {
     "name": "stdout",
     "output_type": "stream",
     "text": [
      "total training cat images: 1000\n",
      "total training dog images: 1000\n",
      "total validation cat images: 500\n",
      "total validation dog images: 500\n",
      "total test cat images: 500\n",
      "total test dog images: 500\n"
     ]
    }
   ],
   "source": [
    "import os\n",
    "\n",
    "base_dir = 'data/cats_and_dogs_small'\n",
    "\n",
    "train_dir = os.path.join(base_dir, 'train')\n",
    "validation_dir = os.path.join(base_dir, 'validation')\n",
    "test_dir = os.path.join(base_dir, 'test')\n",
    "\n",
    "train_cats_dir = os.path.join(train_dir, 'cats')\n",
    "train_dogs_dir = os.path.join(train_dir, 'dogs')\n",
    "validation_cats_dir = os.path.join(validation_dir, 'cats')\n",
    "validation_dogs_dir = os.path.join(validation_dir, 'dogs')\n",
    "test_cats_dir = os.path.join(test_dir, 'cats')\n",
    "test_dogs_dir = os.path.join(test_dir, 'dogs')\n",
    "\n",
    "print('total training cat images:', len(os.listdir(train_cats_dir)))\n",
    "print('total training dog images:', len(os.listdir(train_dogs_dir)))\n",
    "print('total validation cat images:', len(os.listdir(validation_cats_dir)))\n",
    "print('total validation dog images:', len(os.listdir(validation_dogs_dir)))\n",
    "print('total test cat images:', len(os.listdir(test_cats_dir)))\n",
    "print('total test dog images:', len(os.listdir(test_dogs_dir)))"
   ]
  },
  {
   "cell_type": "markdown",
   "id": "5fc8102a",
   "metadata": {},
   "source": [
    "# 数据增强"
   ]
  },
  {
   "cell_type": "code",
   "execution_count": 4,
   "id": "d74b2edb",
   "metadata": {},
   "outputs": [
    {
     "name": "stdout",
     "output_type": "stream",
     "text": [
      "Found 2000 images belonging to 2 classes.\n",
      "Found 1000 images belonging to 2 classes.\n"
     ]
    }
   ],
   "source": [
    "from tensorflow.keras.preprocessing.image import ImageDataGenerator\n",
    "\n",
    "train_datagen = ImageDataGenerator(rescale=1./255,\n",
    "                                   rotation_range=40,\n",
    "                                   width_shift_range=0.2,\n",
    "                                   height_shift_range=0.2,\n",
    "                                   shear_range=0.2,\n",
    "                                   zoom_range=0.2,\n",
    "                                   horizontal_flip=True,\n",
    "                                   fill_mode='nearest')\n",
    "\n",
    "test_datagen = ImageDataGenerator(rescale=1./255)\n",
    "\n",
    "# 数据增强\n",
    "train_generator = train_datagen.flow_from_directory(\n",
    "        # This is the target directory\n",
    "        train_dir,\n",
    "        # All images will be resized to 150x150\n",
    "        target_size=(150, 150),\n",
    "        batch_size=20,\n",
    "        # Since we use binary_crossentropy loss, we need binary labels\n",
    "        class_mode='binary')\n",
    "\n",
    "validation_generator = test_datagen.flow_from_directory(\n",
    "        validation_dir,\n",
    "        target_size=(150, 150),\n",
    "        batch_size=20,\n",
    "        class_mode='binary')"
   ]
  },
  {
   "cell_type": "markdown",
   "id": "0469794a",
   "metadata": {},
   "source": [
    "# 调用预训练卷积层"
   ]
  },
  {
   "cell_type": "code",
   "execution_count": 5,
   "id": "d0002877",
   "metadata": {},
   "outputs": [
    {
     "name": "stdout",
     "output_type": "stream",
     "text": [
      "Model: \"vgg16\"\n",
      "_________________________________________________________________\n",
      " Layer (type)                Output Shape              Param #   \n",
      "=================================================================\n",
      " input_1 (InputLayer)        [(None, 150, 150, 3)]     0         \n",
      "                                                                 \n",
      " block1_conv1 (Conv2D)       (None, 150, 150, 64)      1792      \n",
      "                                                                 \n",
      " block1_conv2 (Conv2D)       (None, 150, 150, 64)      36928     \n",
      "                                                                 \n",
      " block1_pool (MaxPooling2D)  (None, 75, 75, 64)        0         \n",
      "                                                                 \n",
      " block2_conv1 (Conv2D)       (None, 75, 75, 128)       73856     \n",
      "                                                                 \n",
      " block2_conv2 (Conv2D)       (None, 75, 75, 128)       147584    \n",
      "                                                                 \n",
      " block2_pool (MaxPooling2D)  (None, 37, 37, 128)       0         \n",
      "                                                                 \n",
      " block3_conv1 (Conv2D)       (None, 37, 37, 256)       295168    \n",
      "                                                                 \n",
      " block3_conv2 (Conv2D)       (None, 37, 37, 256)       590080    \n",
      "                                                                 \n",
      " block3_conv3 (Conv2D)       (None, 37, 37, 256)       590080    \n",
      "                                                                 \n",
      " block3_pool (MaxPooling2D)  (None, 18, 18, 256)       0         \n",
      "                                                                 \n",
      " block4_conv1 (Conv2D)       (None, 18, 18, 512)       1180160   \n",
      "                                                                 \n",
      " block4_conv2 (Conv2D)       (None, 18, 18, 512)       2359808   \n",
      "                                                                 \n",
      " block4_conv3 (Conv2D)       (None, 18, 18, 512)       2359808   \n",
      "                                                                 \n",
      " block4_pool (MaxPooling2D)  (None, 9, 9, 512)         0         \n",
      "                                                                 \n",
      " block5_conv1 (Conv2D)       (None, 9, 9, 512)         2359808   \n",
      "                                                                 \n",
      " block5_conv2 (Conv2D)       (None, 9, 9, 512)         2359808   \n",
      "                                                                 \n",
      " block5_conv3 (Conv2D)       (None, 9, 9, 512)         2359808   \n",
      "                                                                 \n",
      " block5_pool (MaxPooling2D)  (None, 4, 4, 512)         0         \n",
      "                                                                 \n",
      "=================================================================\n",
      "Total params: 14,714,688\n",
      "Trainable params: 14,714,688\n",
      "Non-trainable params: 0\n",
      "_________________________________________________________________\n"
     ]
    }
   ],
   "source": [
    "from tensorflow.keras.applications import VGG16\n",
    "\n",
    "conv_base = VGG16(weights='imagenet',\n",
    "                  include_top=False,\n",
    "                  input_shape=(150, 150, 3))\n",
    "conv_base.summary()"
   ]
  },
  {
   "cell_type": "markdown",
   "id": "d2002920",
   "metadata": {},
   "source": [
    "# 使用预训练的卷积层搭建神经网络"
   ]
  },
  {
   "cell_type": "code",
   "execution_count": 6,
   "id": "862ecab0",
   "metadata": {},
   "outputs": [
    {
     "name": "stdout",
     "output_type": "stream",
     "text": [
      "Model: \"sequential\"\n",
      "_________________________________________________________________\n",
      " Layer (type)                Output Shape              Param #   \n",
      "=================================================================\n",
      " vgg16 (Functional)          (None, 4, 4, 512)         14714688  \n",
      "                                                                 \n",
      " flatten (Flatten)           (None, 8192)              0         \n",
      "                                                                 \n",
      " dense (Dense)               (None, 256)               2097408   \n",
      "                                                                 \n",
      " dense_1 (Dense)             (None, 1)                 257       \n",
      "                                                                 \n",
      "=================================================================\n",
      "Total params: 16,812,353\n",
      "Trainable params: 16,812,353\n",
      "Non-trainable params: 0\n",
      "_________________________________________________________________\n"
     ]
    }
   ],
   "source": [
    "import tensorflow.keras as keras\n",
    "model = keras.models.Sequential()\n",
    "model.add(conv_base)\n",
    "model.add(keras.layers.Flatten())\n",
    "model.add(keras.layers.Dense(256, activation='relu'))\n",
    "model.add(keras.layers.Dense(1, activation='sigmoid'))\n",
    "model.summary()"
   ]
  },
  {
   "cell_type": "markdown",
   "id": "658632b8",
   "metadata": {},
   "source": [
    "## 冻结卷积基"
   ]
  },
  {
   "cell_type": "code",
   "execution_count": 7,
   "id": "e563b9e4",
   "metadata": {},
   "outputs": [
    {
     "name": "stdout",
     "output_type": "stream",
     "text": [
      "This is the number of trainable weights before freezing the conv base: 30\n",
      "This is the number of trainable weights after freezing the conv base: 4\n"
     ]
    }
   ],
   "source": [
    "# 将卷积基冻结\n",
    "print('This is the number of trainable weights '\n",
    "      'before freezing the conv base:', len(model.trainable_weights))\n",
    "\n",
    "conv_base.trainable = False\n",
    "\n",
    "print('This is the number of trainable weights '\n",
    "      'after freezing the conv base:', len(model.trainable_weights))"
   ]
  },
  {
   "cell_type": "code",
   "execution_count": 8,
   "id": "b8d8f883",
   "metadata": {},
   "outputs": [
    {
     "name": "stdout",
     "output_type": "stream",
     "text": [
      "Model: \"sequential\"\n",
      "_________________________________________________________________\n",
      " Layer (type)                Output Shape              Param #   \n",
      "=================================================================\n",
      " vgg16 (Functional)          (None, 4, 4, 512)         14714688  \n",
      "                                                                 \n",
      " flatten (Flatten)           (None, 8192)              0         \n",
      "                                                                 \n",
      " dense (Dense)               (None, 256)               2097408   \n",
      "                                                                 \n",
      " dense_1 (Dense)             (None, 1)                 257       \n",
      "                                                                 \n",
      "=================================================================\n",
      "Total params: 16,812,353\n",
      "Trainable params: 2,097,665\n",
      "Non-trainable params: 14,714,688\n",
      "_________________________________________________________________\n"
     ]
    }
   ],
   "source": [
    "model.summary()"
   ]
  },
  {
   "cell_type": "markdown",
   "id": "d3281ebf",
   "metadata": {},
   "source": [
    "# 训练模型"
   ]
  },
  {
   "cell_type": "code",
   "execution_count": 9,
   "id": "8d8f53f6",
   "metadata": {},
   "outputs": [],
   "source": [
    "# 模型编译\n",
    "model.compile(loss='binary_crossentropy',\n",
    "              optimizer=keras.optimizers.RMSprop(learning_rate=2e-5),\n",
    "              metrics=['accuracy'])"
   ]
  },
  {
   "cell_type": "code",
   "execution_count": 10,
   "id": "c5f93691",
   "metadata": {},
   "outputs": [
    {
     "name": "stdout",
     "output_type": "stream",
     "text": [
      "Epoch 1/30\n"
     ]
    },
    {
     "name": "stderr",
     "output_type": "stream",
     "text": [
      "C:\\Users\\HP\\AppData\\Local\\Temp\\ipykernel_9020\\2776787710.py:1: UserWarning: `Model.fit_generator` is deprecated and will be removed in a future version. Please use `Model.fit`, which supports generators.\n",
      "  history = model.fit_generator(train_generator,\n"
     ]
    },
    {
     "name": "stdout",
     "output_type": "stream",
     "text": [
      "100/100 [==============================] - 20s 160ms/step - loss: 0.6129 - accuracy: 0.6645 - val_loss: 0.4710 - val_accuracy: 0.8160\n",
      "Epoch 2/30\n",
      "100/100 [==============================] - 16s 160ms/step - loss: 0.4933 - accuracy: 0.7900 - val_loss: 0.3826 - val_accuracy: 0.8470\n",
      "Epoch 3/30\n",
      "100/100 [==============================] - 16s 161ms/step - loss: 0.4402 - accuracy: 0.8125 - val_loss: 0.3338 - val_accuracy: 0.8750\n",
      "Epoch 4/30\n",
      "100/100 [==============================] - 16s 162ms/step - loss: 0.4070 - accuracy: 0.8265 - val_loss: 0.3193 - val_accuracy: 0.8740\n",
      "Epoch 5/30\n",
      "100/100 [==============================] - 16s 162ms/step - loss: 0.3971 - accuracy: 0.8285 - val_loss: 0.2965 - val_accuracy: 0.8840\n",
      "Epoch 6/30\n",
      "100/100 [==============================] - 16s 163ms/step - loss: 0.3715 - accuracy: 0.8265 - val_loss: 0.2893 - val_accuracy: 0.8900\n",
      "Epoch 7/30\n",
      "100/100 [==============================] - 16s 163ms/step - loss: 0.3728 - accuracy: 0.8380 - val_loss: 0.2870 - val_accuracy: 0.8750\n",
      "Epoch 8/30\n",
      "100/100 [==============================] - 16s 163ms/step - loss: 0.3584 - accuracy: 0.8490 - val_loss: 0.2866 - val_accuracy: 0.8720\n",
      "Epoch 9/30\n",
      "100/100 [==============================] - 16s 163ms/step - loss: 0.3460 - accuracy: 0.8475 - val_loss: 0.2618 - val_accuracy: 0.8980\n",
      "Epoch 10/30\n",
      "100/100 [==============================] - 16s 164ms/step - loss: 0.3380 - accuracy: 0.8505 - val_loss: 0.2603 - val_accuracy: 0.8990\n",
      "Epoch 11/30\n",
      "100/100 [==============================] - 16s 163ms/step - loss: 0.3225 - accuracy: 0.8700 - val_loss: 0.2634 - val_accuracy: 0.8890\n",
      "Epoch 12/30\n",
      "100/100 [==============================] - 16s 164ms/step - loss: 0.3183 - accuracy: 0.8655 - val_loss: 0.2721 - val_accuracy: 0.8810\n",
      "Epoch 13/30\n",
      "100/100 [==============================] - 16s 163ms/step - loss: 0.3275 - accuracy: 0.8680 - val_loss: 0.2530 - val_accuracy: 0.9000\n",
      "Epoch 14/30\n",
      "100/100 [==============================] - 16s 163ms/step - loss: 0.3183 - accuracy: 0.8560 - val_loss: 0.2612 - val_accuracy: 0.8880\n",
      "Epoch 15/30\n",
      "100/100 [==============================] - 16s 164ms/step - loss: 0.3024 - accuracy: 0.8730 - val_loss: 0.2657 - val_accuracy: 0.8900\n",
      "Epoch 16/30\n",
      "100/100 [==============================] - 16s 164ms/step - loss: 0.3125 - accuracy: 0.8620 - val_loss: 0.2523 - val_accuracy: 0.8970\n",
      "Epoch 17/30\n",
      "100/100 [==============================] - 16s 164ms/step - loss: 0.3086 - accuracy: 0.8705 - val_loss: 0.2449 - val_accuracy: 0.9000\n",
      "Epoch 18/30\n",
      "100/100 [==============================] - 16s 164ms/step - loss: 0.3119 - accuracy: 0.8600 - val_loss: 0.2515 - val_accuracy: 0.8990\n",
      "Epoch 19/30\n",
      "100/100 [==============================] - 16s 164ms/step - loss: 0.3009 - accuracy: 0.8715 - val_loss: 0.2496 - val_accuracy: 0.8980\n",
      "Epoch 20/30\n",
      "100/100 [==============================] - 16s 164ms/step - loss: 0.3029 - accuracy: 0.8710 - val_loss: 0.2406 - val_accuracy: 0.9080\n",
      "Epoch 21/30\n",
      "100/100 [==============================] - 16s 164ms/step - loss: 0.2964 - accuracy: 0.8695 - val_loss: 0.2381 - val_accuracy: 0.9060\n",
      "Epoch 22/30\n",
      "100/100 [==============================] - 16s 164ms/step - loss: 0.2940 - accuracy: 0.8695 - val_loss: 0.2444 - val_accuracy: 0.9090\n",
      "Epoch 23/30\n",
      "100/100 [==============================] - 16s 164ms/step - loss: 0.3078 - accuracy: 0.8630 - val_loss: 0.2415 - val_accuracy: 0.9100\n",
      "Epoch 24/30\n",
      "100/100 [==============================] - 16s 164ms/step - loss: 0.2885 - accuracy: 0.8750 - val_loss: 0.2687 - val_accuracy: 0.8880\n",
      "Epoch 25/30\n",
      "100/100 [==============================] - 16s 164ms/step - loss: 0.2881 - accuracy: 0.8840 - val_loss: 0.2379 - val_accuracy: 0.9040\n",
      "Epoch 26/30\n",
      "100/100 [==============================] - 16s 164ms/step - loss: 0.2923 - accuracy: 0.8720 - val_loss: 0.2401 - val_accuracy: 0.9010\n",
      "Epoch 27/30\n",
      "100/100 [==============================] - 16s 164ms/step - loss: 0.2996 - accuracy: 0.8710 - val_loss: 0.2381 - val_accuracy: 0.9080\n",
      "Epoch 28/30\n",
      "100/100 [==============================] - 16s 164ms/step - loss: 0.2883 - accuracy: 0.8875 - val_loss: 0.2469 - val_accuracy: 0.9050\n",
      "Epoch 29/30\n",
      "100/100 [==============================] - 16s 164ms/step - loss: 0.2836 - accuracy: 0.8770 - val_loss: 0.2364 - val_accuracy: 0.9100\n",
      "Epoch 30/30\n",
      "100/100 [==============================] - 16s 164ms/step - loss: 0.2925 - accuracy: 0.8815 - val_loss: 0.2336 - val_accuracy: 0.9090\n"
     ]
    }
   ],
   "source": [
    "history = model.fit(train_generator,\n",
    "                    steps_per_epoch=100,\n",
    "                    epochs=30,\n",
    "                    validation_data=validation_generator,\n",
    "                    validation_steps=50,\n",
    "                    verbose=1)"
   ]
  },
  {
   "cell_type": "markdown",
   "id": "d4e4330d",
   "metadata": {},
   "source": [
    "# 可视化训练过程"
   ]
  },
  {
   "cell_type": "code",
   "execution_count": 11,
   "id": "94cd58d3",
   "metadata": {},
   "outputs": [
    {
     "data": {
      "image/png": "[encoded data removed]",
      "text/plain": [
       "<Figure size 432x288 with 1 Axes>"
      ]
     },
     "metadata": {
      "needs_background": "light"
     },
     "output_type": "display_data"
    },
    {
     "data": {
      "image/png": "[encoded data removed]",
      "text/plain": [
       "<Figure size 432x288 with 1 Axes>"
      ]
     },
     "metadata": {
      "needs_background": "light"
     },
     "output_type": "display_data"
    }
   ],
   "source": [
    "acc = history.history['accuracy']\n",
    "val_acc = history.history['val_accuracy']\n",
    "loss = history.history['loss']\n",
    "val_loss = history.history['val_loss']\n",
    "\n",
    "epochs = range(len(acc))\n",
    "\n",
    "plt.plot(epochs, acc, 'bo', label='Training acc')\n",
    "plt.plot(epochs, val_acc, 'b', label='Validation acc')\n",
    "plt.title('Training and validation accuracy')\n",
    "plt.legend()\n",
    "\n",
    "plt.figure()\n",
    "\n",
    "plt.plot(epochs, loss, 'bo', label='Training loss')\n",
    "plt.plot(epochs, val_loss, 'b', label='Validation loss')\n",
    "plt.title('Training and validation loss')\n",
    "plt.legend()\n",
    "\n",
    "plt.show();"
   ]
  },
  {
   "cell_type": "markdown",
   "id": "caf62d12",
   "metadata": {},
   "source": [
    "# 保存模型到本地"
   ]
  },
  {
   "cell_type": "code",
   "execution_count": 12,
   "id": "77b57e33",
   "metadata": {},
   "outputs": [],
   "source": [
    "model.save('CatsAndDogsVGG16.h5')"
   ]
  },
  {
   "cell_type": "markdown",
   "id": "2ecb8146",
   "metadata": {},
   "source": [
    "# 模型微调"
   ]
  },
  {
   "cell_type": "code",
   "execution_count": 13,
   "id": "d37d9642",
   "metadata": {},
   "outputs": [
    {
     "name": "stdout",
     "output_type": "stream",
     "text": [
      "Model: \"vgg16\"\n",
      "_________________________________________________________________\n",
      " Layer (type)                Output Shape              Param #   \n",
      "=================================================================\n",
      " input_1 (InputLayer)        [(None, 150, 150, 3)]     0         \n",
      "                                                                 \n",
      " block1_conv1 (Conv2D)       (None, 150, 150, 64)      1792      \n",
      "                                                                 \n",
      " block1_conv2 (Conv2D)       (None, 150, 150, 64)      36928     \n",
      "                                                                 \n",
      " block1_pool (MaxPooling2D)  (None, 75, 75, 64)        0         \n",
      "                                                                 \n",
      " block2_conv1 (Conv2D)       (None, 75, 75, 128)       73856     \n",
      "                                                                 \n",
      " block2_conv2 (Conv2D)       (None, 75, 75, 128)       147584    \n",
      "                                                                 \n",
      " block2_pool (MaxPooling2D)  (None, 37, 37, 128)       0         \n",
      "                                                                 \n",
      " block3_conv1 (Conv2D)       (None, 37, 37, 256)       295168    \n",
      "                                                                 \n",
      " block3_conv2 (Conv2D)       (None, 37, 37, 256)       590080    \n",
      "                                                                 \n",
      " block3_conv3 (Conv2D)       (None, 37, 37, 256)       590080    \n",
      "                                                                 \n",
      " block3_pool (MaxPooling2D)  (None, 18, 18, 256)       0         \n",
      "                                                                 \n",
      " block4_conv1 (Conv2D)       (None, 18, 18, 512)       1180160   \n",
      "                                                                 \n",
      " block4_conv2 (Conv2D)       (None, 18, 18, 512)       2359808   \n",
      "                                                                 \n",
      " block4_conv3 (Conv2D)       (None, 18, 18, 512)       2359808   \n",
      "                                                                 \n",
      " block4_pool (MaxPooling2D)  (None, 9, 9, 512)         0         \n",
      "                                                                 \n",
      " block5_conv1 (Conv2D)       (None, 9, 9, 512)         2359808   \n",
      "                                                                 \n",
      " block5_conv2 (Conv2D)       (None, 9, 9, 512)         2359808   \n",
      "                                                                 \n",
      " block5_conv3 (Conv2D)       (None, 9, 9, 512)         2359808   \n",
      "                                                                 \n",
      " block5_pool (MaxPooling2D)  (None, 4, 4, 512)         0         \n",
      "                                                                 \n",
      "=================================================================\n",
      "Total params: 14,714,688\n",
      "Trainable params: 0\n",
      "Non-trainable params: 14,714,688\n",
      "_________________________________________________________________\n"
     ]
    }
   ],
   "source": [
    "# 卷积基仍处于冻结状态\n",
    "conv_base.summary()"
   ]
  },
  {
   "cell_type": "code",
   "execution_count": 14,
   "id": "3793384f",
   "metadata": {},
   "outputs": [
    {
     "name": "stdout",
     "output_type": "stream",
     "text": [
      "input_1\n",
      "block1_conv1\n",
      "block1_conv2\n",
      "block1_pool\n",
      "block2_conv1\n",
      "block2_conv2\n",
      "block2_pool\n",
      "block3_conv1\n",
      "block3_conv2\n",
      "block3_conv3\n",
      "block3_pool\n",
      "block4_conv1\n",
      "block4_conv2\n",
      "block4_conv3\n",
      "block4_pool\n",
      "block5_conv1\n",
      "block5_conv2\n",
      "block5_conv3\n",
      "block5_pool\n"
     ]
    }
   ],
   "source": [
    "# 打印VGG各层的名字\n",
    "for layer in conv_base.layers:\n",
    "    print(layer.name)"
   ]
  },
  {
   "cell_type": "code",
   "execution_count": 15,
   "id": "6e44bfeb",
   "metadata": {},
   "outputs": [],
   "source": [
    "# 将block5层全部解冻\n",
    "conv_base.trainable = True\n",
    "\n",
    "set_trainable = False\n",
    "for layer in conv_base.layers:\n",
    "    if layer.name == 'block5_conv1':\n",
    "        set_trainable = True\n",
    "    if set_trainable:\n",
    "        layer.trainable = True\n",
    "    else:\n",
    "        layer.trainable = False"
   ]
  },
  {
   "cell_type": "code",
   "execution_count": 16,
   "id": "35ee5a80",
   "metadata": {},
   "outputs": [
    {
     "name": "stdout",
     "output_type": "stream",
     "text": [
      "Model: \"vgg16\"\n",
      "_________________________________________________________________\n",
      " Layer (type)                Output Shape              Param #   \n",
      "=================================================================\n",
      " input_1 (InputLayer)        [(None, 150, 150, 3)]     0         \n",
      "                                                                 \n",
      " block1_conv1 (Conv2D)       (None, 150, 150, 64)      1792      \n",
      "                                                                 \n",
      " block1_conv2 (Conv2D)       (None, 150, 150, 64)      36928     \n",
      "                                                                 \n",
      " block1_pool (MaxPooling2D)  (None, 75, 75, 64)        0         \n",
      "                                                                 \n",
      " block2_conv1 (Conv2D)       (None, 75, 75, 128)       73856     \n",
      "                                                                 \n",
      " block2_conv2 (Conv2D)       (None, 75, 75, 128)       147584    \n",
      "                                                                 \n",
      " block2_pool (MaxPooling2D)  (None, 37, 37, 128)       0         \n",
      "                                                                 \n",
      " block3_conv1 (Conv2D)       (None, 37, 37, 256)       295168    \n",
      "                                                                 \n",
      " block3_conv2 (Conv2D)       (None, 37, 37, 256)       590080    \n",
      "                                                                 \n",
      " block3_conv3 (Conv2D)       (None, 37, 37, 256)       590080    \n",
      "                                                                 \n",
      " block3_pool (MaxPooling2D)  (None, 18, 18, 256)       0         \n",
      "                                                                 \n",
      " block4_conv1 (Conv2D)       (None, 18, 18, 512)       1180160   \n",
      "                                                                 \n",
      " block4_conv2 (Conv2D)       (None, 18, 18, 512)       2359808   \n",
      "                                                                 \n",
      " block4_conv3 (Conv2D)       (None, 18, 18, 512)       2359808   \n",
      "                                                                 \n",
      " block4_pool (MaxPooling2D)  (None, 9, 9, 512)         0         \n",
      "                                                                 \n",
      " block5_conv1 (Conv2D)       (None, 9, 9, 512)         2359808   \n",
      "                                                                 \n",
      " block5_conv2 (Conv2D)       (None, 9, 9, 512)         2359808   \n",
      "                                                                 \n",
      " block5_conv3 (Conv2D)       (None, 9, 9, 512)         2359808   \n",
      "                                                                 \n",
      " block5_pool (MaxPooling2D)  (None, 4, 4, 512)         0         \n",
      "                                                                 \n",
      "=================================================================\n",
      "Total params: 14,714,688\n",
      "Trainable params: 7,079,424\n",
      "Non-trainable params: 7,635,264\n",
      "_________________________________________________________________\n"
     ]
    }
   ],
   "source": [
    "# 观察参数中有多少是可以训练的、多少被冻结的\n",
    "conv_base.summary()"
   ]
  },
  {
   "cell_type": "code",
   "execution_count": 17,
   "id": "359cb2dc",
   "metadata": {},
   "outputs": [
    {
     "name": "stdout",
     "output_type": "stream",
     "text": [
      "Epoch 1/100\n"
     ]
    },
    {
     "name": "stderr",
     "output_type": "stream",
     "text": [
      "E:\\Anaconda3\\lib\\site-packages\\keras\\optimizers\\optimizer_v2\\rmsprop.py:135: UserWarning: The `lr` argument is deprecated, use `learning_rate` instead.\n",
      "  super(RMSprop, self).__init__(name, **kwargs)\n"
     ]
    },
    {
     "name": "stdout",
     "output_type": "stream",
     "text": [
      "100/100 [==============================] - 20s 184ms/step - loss: 0.2914 - accuracy: 0.8740 - val_loss: 0.2201 - val_accuracy: 0.9040\n",
      "Epoch 2/100\n",
      "100/100 [==============================] - 18s 184ms/step - loss: 0.2655 - accuracy: 0.8880 - val_loss: 0.2359 - val_accuracy: 0.9040\n",
      "Epoch 3/100\n",
      "100/100 [==============================] - 19s 185ms/step - loss: 0.2587 - accuracy: 0.8880 - val_loss: 0.2011 - val_accuracy: 0.9200\n",
      "Epoch 4/100\n",
      "100/100 [==============================] - 19s 186ms/step - loss: 0.2276 - accuracy: 0.9030 - val_loss: 0.2309 - val_accuracy: 0.9100\n",
      "Epoch 5/100\n",
      "100/100 [==============================] - 19s 187ms/step - loss: 0.2233 - accuracy: 0.9065 - val_loss: 0.1802 - val_accuracy: 0.9260\n",
      "Epoch 6/100\n",
      "100/100 [==============================] - 19s 187ms/step - loss: 0.1813 - accuracy: 0.9255 - val_loss: 0.2064 - val_accuracy: 0.9230\n",
      "Epoch 7/100\n",
      "100/100 [==============================] - 19s 188ms/step - loss: 0.1914 - accuracy: 0.9155 - val_loss: 0.1700 - val_accuracy: 0.9330\n",
      "Epoch 8/100\n",
      "100/100 [==============================] - 19s 188ms/step - loss: 0.1731 - accuracy: 0.9275 - val_loss: 0.1972 - val_accuracy: 0.9220\n",
      "Epoch 9/100\n",
      "100/100 [==============================] - 19s 189ms/step - loss: 0.1645 - accuracy: 0.9330 - val_loss: 0.1818 - val_accuracy: 0.9270\n",
      "Epoch 10/100\n",
      "100/100 [==============================] - 19s 187ms/step - loss: 0.1412 - accuracy: 0.9445 - val_loss: 0.1994 - val_accuracy: 0.9120\n",
      "Epoch 11/100\n",
      "100/100 [==============================] - 19s 188ms/step - loss: 0.1527 - accuracy: 0.9415 - val_loss: 0.1790 - val_accuracy: 0.9300\n",
      "Epoch 12/100\n",
      "100/100 [==============================] - 19s 187ms/step - loss: 0.1333 - accuracy: 0.9440 - val_loss: 0.2382 - val_accuracy: 0.9240\n",
      "Epoch 13/100\n",
      "100/100 [==============================] - 19s 188ms/step - loss: 0.1245 - accuracy: 0.9485 - val_loss: 0.1796 - val_accuracy: 0.9330\n",
      "Epoch 14/100\n",
      "100/100 [==============================] - 19s 188ms/step - loss: 0.1307 - accuracy: 0.9500 - val_loss: 0.2015 - val_accuracy: 0.9250\n",
      "Epoch 15/100\n",
      "100/100 [==============================] - 19s 188ms/step - loss: 0.1234 - accuracy: 0.9520 - val_loss: 0.1980 - val_accuracy: 0.9210\n",
      "Epoch 16/100\n",
      "100/100 [==============================] - 19s 188ms/step - loss: 0.1128 - accuracy: 0.9535 - val_loss: 0.1833 - val_accuracy: 0.9310\n",
      "Epoch 17/100\n",
      "100/100 [==============================] - 19s 188ms/step - loss: 0.1145 - accuracy: 0.9515 - val_loss: 0.2059 - val_accuracy: 0.9300\n",
      "Epoch 18/100\n",
      "100/100 [==============================] - 19s 189ms/step - loss: 0.1156 - accuracy: 0.9515 - val_loss: 0.1793 - val_accuracy: 0.9340\n",
      "Epoch 19/100\n",
      "100/100 [==============================] - 19s 188ms/step - loss: 0.0948 - accuracy: 0.9645 - val_loss: 0.1753 - val_accuracy: 0.9360\n",
      "Epoch 20/100\n",
      "100/100 [==============================] - 19s 188ms/step - loss: 0.0989 - accuracy: 0.9620 - val_loss: 0.1742 - val_accuracy: 0.9370\n",
      "Epoch 21/100\n",
      "100/100 [==============================] - 19s 188ms/step - loss: 0.0921 - accuracy: 0.9655 - val_loss: 0.1869 - val_accuracy: 0.9340\n",
      "Epoch 22/100\n",
      "100/100 [==============================] - 19s 188ms/step - loss: 0.0960 - accuracy: 0.9595 - val_loss: 0.1827 - val_accuracy: 0.9370\n",
      "Epoch 23/100\n",
      "100/100 [==============================] - 19s 188ms/step - loss: 0.0940 - accuracy: 0.9665 - val_loss: 0.1788 - val_accuracy: 0.9370\n",
      "Epoch 24/100\n",
      "100/100 [==============================] - 19s 188ms/step - loss: 0.0801 - accuracy: 0.9735 - val_loss: 0.2083 - val_accuracy: 0.9360\n",
      "Epoch 25/100\n",
      "100/100 [==============================] - 19s 188ms/step - loss: 0.0815 - accuracy: 0.9680 - val_loss: 0.2074 - val_accuracy: 0.9310\n",
      "Epoch 26/100\n",
      "100/100 [==============================] - 19s 188ms/step - loss: 0.0884 - accuracy: 0.9635 - val_loss: 0.1967 - val_accuracy: 0.9360\n",
      "Epoch 27/100\n",
      "100/100 [==============================] - 19s 188ms/step - loss: 0.0732 - accuracy: 0.9730 - val_loss: 0.2788 - val_accuracy: 0.9190\n",
      "Epoch 28/100\n",
      "100/100 [==============================] - 19s 188ms/step - loss: 0.0802 - accuracy: 0.9720 - val_loss: 0.1822 - val_accuracy: 0.9370\n",
      "Epoch 29/100\n",
      "100/100 [==============================] - 19s 188ms/step - loss: 0.0769 - accuracy: 0.9695 - val_loss: 0.1974 - val_accuracy: 0.9310\n",
      "Epoch 30/100\n",
      "100/100 [==============================] - 19s 188ms/step - loss: 0.0767 - accuracy: 0.9715 - val_loss: 0.1826 - val_accuracy: 0.9310\n",
      "Epoch 31/100\n",
      "100/100 [==============================] - 19s 188ms/step - loss: 0.0706 - accuracy: 0.9740 - val_loss: 0.2120 - val_accuracy: 0.9290\n",
      "Epoch 32/100\n",
      "100/100 [==============================] - 19s 189ms/step - loss: 0.0614 - accuracy: 0.9760 - val_loss: 0.1987 - val_accuracy: 0.9380\n",
      "Epoch 33/100\n",
      "100/100 [==============================] - 19s 188ms/step - loss: 0.0728 - accuracy: 0.9755 - val_loss: 0.1930 - val_accuracy: 0.9400\n",
      "Epoch 34/100\n",
      "100/100 [==============================] - 19s 188ms/step - loss: 0.0594 - accuracy: 0.9760 - val_loss: 0.2270 - val_accuracy: 0.9380\n",
      "Epoch 35/100\n",
      "100/100 [==============================] - 19s 188ms/step - loss: 0.0635 - accuracy: 0.9775 - val_loss: 0.1953 - val_accuracy: 0.9350\n",
      "Epoch 36/100\n",
      "100/100 [==============================] - 19s 188ms/step - loss: 0.0563 - accuracy: 0.9775 - val_loss: 0.2099 - val_accuracy: 0.9350\n",
      "Epoch 37/100\n",
      "100/100 [==============================] - 19s 188ms/step - loss: 0.0561 - accuracy: 0.9825 - val_loss: 0.2506 - val_accuracy: 0.9320\n",
      "Epoch 38/100\n",
      "100/100 [==============================] - 19s 188ms/step - loss: 0.0548 - accuracy: 0.9810 - val_loss: 0.2228 - val_accuracy: 0.9350\n",
      "Epoch 39/100\n",
      "100/100 [==============================] - 19s 188ms/step - loss: 0.0551 - accuracy: 0.9765 - val_loss: 0.1940 - val_accuracy: 0.9380\n",
      "Epoch 40/100\n",
      "100/100 [==============================] - 19s 188ms/step - loss: 0.0447 - accuracy: 0.9835 - val_loss: 0.1877 - val_accuracy: 0.9370\n",
      "Epoch 41/100\n",
      "100/100 [==============================] - 19s 188ms/step - loss: 0.0563 - accuracy: 0.9800 - val_loss: 0.1835 - val_accuracy: 0.9340\n",
      "Epoch 42/100\n",
      "100/100 [==============================] - 19s 188ms/step - loss: 0.0459 - accuracy: 0.9850 - val_loss: 0.2040 - val_accuracy: 0.9360\n",
      "Epoch 43/100\n",
      "100/100 [==============================] - 19s 188ms/step - loss: 0.0428 - accuracy: 0.9865 - val_loss: 0.1987 - val_accuracy: 0.9400\n",
      "Epoch 44/100\n",
      "100/100 [==============================] - 19s 188ms/step - loss: 0.0444 - accuracy: 0.9830 - val_loss: 0.2236 - val_accuracy: 0.9340\n",
      "Epoch 45/100\n",
      "100/100 [==============================] - 19s 188ms/step - loss: 0.0441 - accuracy: 0.9820 - val_loss: 0.2120 - val_accuracy: 0.9380\n",
      "Epoch 46/100\n",
      "100/100 [==============================] - 19s 188ms/step - loss: 0.0309 - accuracy: 0.9885 - val_loss: 0.2183 - val_accuracy: 0.9390\n",
      "Epoch 47/100\n",
      "100/100 [==============================] - 19s 188ms/step - loss: 0.0375 - accuracy: 0.9820 - val_loss: 0.3064 - val_accuracy: 0.9250\n",
      "Epoch 48/100\n",
      "100/100 [==============================] - 19s 188ms/step - loss: 0.0423 - accuracy: 0.9875 - val_loss: 0.2242 - val_accuracy: 0.9330\n",
      "Epoch 49/100\n",
      "100/100 [==============================] - 19s 188ms/step - loss: 0.0427 - accuracy: 0.9850 - val_loss: 0.2189 - val_accuracy: 0.9360\n",
      "Epoch 50/100\n",
      "100/100 [==============================] - 19s 188ms/step - loss: 0.0423 - accuracy: 0.9860 - val_loss: 0.2125 - val_accuracy: 0.9370\n",
      "Epoch 51/100\n",
      "100/100 [==============================] - 19s 188ms/step - loss: 0.0332 - accuracy: 0.9905 - val_loss: 0.2278 - val_accuracy: 0.9390\n",
      "Epoch 52/100\n",
      "100/100 [==============================] - 19s 188ms/step - loss: 0.0405 - accuracy: 0.9835 - val_loss: 0.3328 - val_accuracy: 0.9180\n",
      "Epoch 53/100\n",
      "100/100 [==============================] - 19s 188ms/step - loss: 0.0392 - accuracy: 0.9830 - val_loss: 0.2089 - val_accuracy: 0.9310\n",
      "Epoch 54/100\n",
      "100/100 [==============================] - 19s 188ms/step - loss: 0.0422 - accuracy: 0.9830 - val_loss: 0.2295 - val_accuracy: 0.9380\n",
      "Epoch 55/100\n",
      "100/100 [==============================] - 19s 188ms/step - loss: 0.0383 - accuracy: 0.9835 - val_loss: 0.2065 - val_accuracy: 0.9380\n",
      "Epoch 56/100\n",
      "100/100 [==============================] - 19s 188ms/step - loss: 0.0395 - accuracy: 0.9875 - val_loss: 0.2631 - val_accuracy: 0.9310\n"
     ]
    },
    {
     "name": "stdout",
     "output_type": "stream",
     "text": [
      "Epoch 57/100\n",
      "100/100 [==============================] - 19s 188ms/step - loss: 0.0352 - accuracy: 0.9900 - val_loss: 0.3247 - val_accuracy: 0.9230\n",
      "Epoch 58/100\n",
      "100/100 [==============================] - 19s 188ms/step - loss: 0.0376 - accuracy: 0.9825 - val_loss: 0.1989 - val_accuracy: 0.9330\n",
      "Epoch 59/100\n",
      "100/100 [==============================] - 19s 188ms/step - loss: 0.0393 - accuracy: 0.9845 - val_loss: 0.2197 - val_accuracy: 0.9390\n",
      "Epoch 60/100\n",
      "100/100 [==============================] - 19s 188ms/step - loss: 0.0325 - accuracy: 0.9905 - val_loss: 0.2217 - val_accuracy: 0.9400\n",
      "Epoch 61/100\n",
      "100/100 [==============================] - 19s 189ms/step - loss: 0.0315 - accuracy: 0.9890 - val_loss: 0.2287 - val_accuracy: 0.9410\n",
      "Epoch 62/100\n",
      "100/100 [==============================] - 19s 188ms/step - loss: 0.0312 - accuracy: 0.9915 - val_loss: 0.2097 - val_accuracy: 0.9390\n",
      "Epoch 63/100\n",
      "100/100 [==============================] - 19s 189ms/step - loss: 0.0360 - accuracy: 0.9870 - val_loss: 0.2092 - val_accuracy: 0.9420\n",
      "Epoch 64/100\n",
      "100/100 [==============================] - 19s 189ms/step - loss: 0.0254 - accuracy: 0.9905 - val_loss: 0.2210 - val_accuracy: 0.9440\n",
      "Epoch 65/100\n",
      "100/100 [==============================] - 19s 189ms/step - loss: 0.0373 - accuracy: 0.9865 - val_loss: 0.2693 - val_accuracy: 0.9310\n",
      "Epoch 66/100\n",
      "100/100 [==============================] - 19s 188ms/step - loss: 0.0394 - accuracy: 0.9875 - val_loss: 0.2313 - val_accuracy: 0.9380\n",
      "Epoch 67/100\n",
      "100/100 [==============================] - 19s 188ms/step - loss: 0.0277 - accuracy: 0.9905 - val_loss: 0.1998 - val_accuracy: 0.9430\n",
      "Epoch 68/100\n",
      "100/100 [==============================] - 19s 188ms/step - loss: 0.0253 - accuracy: 0.9905 - val_loss: 0.2363 - val_accuracy: 0.9420\n",
      "Epoch 69/100\n",
      "100/100 [==============================] - 19s 188ms/step - loss: 0.0319 - accuracy: 0.9910 - val_loss: 0.2381 - val_accuracy: 0.9370\n",
      "Epoch 70/100\n",
      "100/100 [==============================] - 19s 188ms/step - loss: 0.0188 - accuracy: 0.9940 - val_loss: 0.2457 - val_accuracy: 0.9430\n",
      "Epoch 71/100\n",
      "100/100 [==============================] - 19s 188ms/step - loss: 0.0288 - accuracy: 0.9875 - val_loss: 0.3918 - val_accuracy: 0.9230\n",
      "Epoch 72/100\n",
      "100/100 [==============================] - 19s 188ms/step - loss: 0.0265 - accuracy: 0.9895 - val_loss: 0.2369 - val_accuracy: 0.9400\n",
      "Epoch 73/100\n",
      "100/100 [==============================] - 19s 188ms/step - loss: 0.0217 - accuracy: 0.9915 - val_loss: 0.2195 - val_accuracy: 0.9400\n",
      "Epoch 74/100\n",
      "100/100 [==============================] - 19s 189ms/step - loss: 0.0261 - accuracy: 0.9905 - val_loss: 0.2587 - val_accuracy: 0.9370\n",
      "Epoch 75/100\n",
      "100/100 [==============================] - 19s 188ms/step - loss: 0.0296 - accuracy: 0.9900 - val_loss: 0.3931 - val_accuracy: 0.9190\n",
      "Epoch 76/100\n",
      "100/100 [==============================] - 19s 188ms/step - loss: 0.0167 - accuracy: 0.9940 - val_loss: 0.3173 - val_accuracy: 0.9270\n",
      "Epoch 77/100\n",
      "100/100 [==============================] - 19s 189ms/step - loss: 0.0319 - accuracy: 0.9890 - val_loss: 0.2601 - val_accuracy: 0.9390\n",
      "Epoch 78/100\n",
      "100/100 [==============================] - 19s 189ms/step - loss: 0.0241 - accuracy: 0.9915 - val_loss: 0.2662 - val_accuracy: 0.9390\n",
      "Epoch 79/100\n",
      "100/100 [==============================] - 19s 188ms/step - loss: 0.0213 - accuracy: 0.9915 - val_loss: 0.2987 - val_accuracy: 0.9260\n",
      "Epoch 80/100\n",
      "100/100 [==============================] - 19s 189ms/step - loss: 0.0291 - accuracy: 0.9895 - val_loss: 0.2919 - val_accuracy: 0.9350\n",
      "Epoch 81/100\n",
      "100/100 [==============================] - 19s 188ms/step - loss: 0.0320 - accuracy: 0.9885 - val_loss: 0.2513 - val_accuracy: 0.9330\n",
      "Epoch 82/100\n",
      "100/100 [==============================] - 19s 188ms/step - loss: 0.0185 - accuracy: 0.9920 - val_loss: 0.2944 - val_accuracy: 0.9380\n",
      "Epoch 83/100\n",
      "100/100 [==============================] - 19s 188ms/step - loss: 0.0208 - accuracy: 0.9930 - val_loss: 0.2785 - val_accuracy: 0.9390\n",
      "Epoch 84/100\n",
      "100/100 [==============================] - 19s 189ms/step - loss: 0.0249 - accuracy: 0.9925 - val_loss: 0.2745 - val_accuracy: 0.9410\n",
      "Epoch 85/100\n",
      "100/100 [==============================] - 19s 189ms/step - loss: 0.0213 - accuracy: 0.9955 - val_loss: 0.2717 - val_accuracy: 0.9450\n",
      "Epoch 86/100\n",
      "100/100 [==============================] - 19s 189ms/step - loss: 0.0230 - accuracy: 0.9920 - val_loss: 0.2644 - val_accuracy: 0.9420\n",
      "Epoch 87/100\n",
      "100/100 [==============================] - 19s 188ms/step - loss: 0.0178 - accuracy: 0.9945 - val_loss: 0.4589 - val_accuracy: 0.9170\n",
      "Epoch 88/100\n",
      "100/100 [==============================] - 19s 188ms/step - loss: 0.0160 - accuracy: 0.9945 - val_loss: 0.2356 - val_accuracy: 0.9440\n",
      "Epoch 89/100\n",
      "100/100 [==============================] - 19s 188ms/step - loss: 0.0127 - accuracy: 0.9970 - val_loss: 0.2462 - val_accuracy: 0.9400\n",
      "Epoch 90/100\n",
      "100/100 [==============================] - 19s 188ms/step - loss: 0.0292 - accuracy: 0.9910 - val_loss: 0.2642 - val_accuracy: 0.9410\n",
      "Epoch 91/100\n",
      "100/100 [==============================] - 19s 188ms/step - loss: 0.0163 - accuracy: 0.9950 - val_loss: 0.2875 - val_accuracy: 0.9430\n",
      "Epoch 92/100\n",
      "100/100 [==============================] - 19s 189ms/step - loss: 0.0226 - accuracy: 0.9905 - val_loss: 0.3234 - val_accuracy: 0.9340\n",
      "Epoch 93/100\n",
      "100/100 [==============================] - 19s 188ms/step - loss: 0.0183 - accuracy: 0.9915 - val_loss: 0.2400 - val_accuracy: 0.9360\n",
      "Epoch 94/100\n",
      "100/100 [==============================] - 19s 189ms/step - loss: 0.0168 - accuracy: 0.9940 - val_loss: 0.2712 - val_accuracy: 0.9420\n",
      "Epoch 95/100\n",
      "100/100 [==============================] - 19s 188ms/step - loss: 0.0192 - accuracy: 0.9940 - val_loss: 0.2697 - val_accuracy: 0.9330\n",
      "Epoch 96/100\n",
      "100/100 [==============================] - 19s 188ms/step - loss: 0.0218 - accuracy: 0.9925 - val_loss: 0.3562 - val_accuracy: 0.9330\n",
      "Epoch 97/100\n",
      "100/100 [==============================] - 19s 189ms/step - loss: 0.0170 - accuracy: 0.9940 - val_loss: 0.2807 - val_accuracy: 0.9410\n",
      "Epoch 98/100\n",
      "100/100 [==============================] - 19s 188ms/step - loss: 0.0155 - accuracy: 0.9940 - val_loss: 0.2898 - val_accuracy: 0.9360\n",
      "Epoch 99/100\n",
      "100/100 [==============================] - 19s 188ms/step - loss: 0.0230 - accuracy: 0.9940 - val_loss: 0.4214 - val_accuracy: 0.9260\n",
      "Epoch 100/100\n",
      "100/100 [==============================] - 19s 188ms/step - loss: 0.0159 - accuracy: 0.9945 - val_loss: 0.2711 - val_accuracy: 0.9380\n"
     ]
    }
   ],
   "source": [
    "# 特别注意，此处的代码中没有再重新定义模型，使用的还是以前训练的模型\n",
    "model.compile(loss='binary_crossentropy',\n",
    "              optimizer=keras.optimizers.RMSprop(learning_rate=1e-5),\n",
    "              metrics=['accuracy'])\n",
    "\n",
    "history = model.fit(train_generator,\n",
    "                    steps_per_epoch=100,\n",
    "                    epochs=100,\n",
    "                    validation_data=validation_generator,\n",
    "                    validation_steps=50,\n",
    "                    verbose=1)"
   ]
  },
  {
   "cell_type": "markdown",
   "id": "9d5408d1",
   "metadata": {},
   "source": [
    "## 可视化训练过程"
   ]
  },
  {
   "cell_type": "code",
   "execution_count": 18,
   "id": "4179e724",
   "metadata": {},
   "outputs": [
    {
     "data": {
      "image/png": "[encoded data removed]",
      "text/plain": [
       "<Figure size 432x288 with 1 Axes>"
      ]
     },
     "metadata": {
      "needs_background": "light"
     },
     "output_type": "display_data"
    },
    {
     "data": {
      "image/png": "[encoded data removed]",
      "text/plain": [
       "<Figure size 432x288 with 1 Axes>"
      ]
     },
     "metadata": {
      "needs_background": "light"
     },
     "output_type": "display_data"
    }
   ],
   "source": [
    "acc = history.history['accuracy']\n",
    "val_acc = history.history['val_accuracy']\n",
    "loss = history.history['loss']\n",
    "val_loss = history.history['val_loss']\n",
    "\n",
    "epochs = range(len(acc))\n",
    "\n",
    "plt.plot(epochs, acc, 'bo', label='Training acc')\n",
    "plt.plot(epochs, val_acc, 'b', label='Validation acc')\n",
    "plt.title('Training and validation accuracy')\n",
    "plt.legend()\n",
    "\n",
    "plt.figure()\n",
    "\n",
    "plt.plot(epochs, loss, 'bo', label='Training loss')\n",
    "plt.plot(epochs, val_loss, 'b', label='Validation loss')\n",
    "plt.title('Training and validation loss')\n",
    "plt.legend()\n",
    "\n",
    "plt.show();"
   ]
  },
  {
   "cell_type": "code",
   "execution_count": 19,
   "id": "470c85f5",
   "metadata": {},
   "outputs": [
    {
     "data": {
      "image/png": "[encoded data removed]",
      "text/plain": [
       "<Figure size 432x288 with 1 Axes>"
      ]
     },
     "metadata": {
      "needs_background": "light"
     },
     "output_type": "display_data"
    },
    {
     "data": {
      "image/png": "[encoded data removed]",
      "text/plain": [
       "<Figure size 432x288 with 1 Axes>"
      ]
     },
     "metadata": {
      "needs_background": "light"
     },
     "output_type": "display_data"
    }
   ],
   "source": [
    "def smooth_curve(points, factor=0.8):\n",
    "  smoothed_points = []\n",
    "  for point in points:\n",
    "    if smoothed_points:\n",
    "      previous = smoothed_points[-1]\n",
    "      smoothed_points.append(previous * factor + point * (1 - factor))\n",
    "    else:\n",
    "      smoothed_points.append(point)\n",
    "  return smoothed_points\n",
    "\n",
    "plt.plot(epochs,\n",
    "         smooth_curve(acc), 'bo', label='Smoothed training acc')\n",
    "plt.plot(epochs,\n",
    "         smooth_curve(val_acc), 'b', label='Smoothed validation acc')\n",
    "plt.title('Training and validation accuracy')\n",
    "plt.legend()\n",
    "\n",
    "plt.figure()\n",
    "\n",
    "plt.plot(epochs,\n",
    "         smooth_curve(loss), 'bo', label='Smoothed training loss')\n",
    "plt.plot(epochs,\n",
    "         smooth_curve(val_loss), 'b', label='Smoothed validation loss')\n",
    "plt.title('Training and validation loss')\n",
    "plt.legend()\n",
    "\n",
    "plt.show();"
   ]
  },
  {
   "cell_type": "markdown",
   "id": "194d41d4",
   "metadata": {},
   "source": [
    "## 保存模型"
   ]
  },
  {
   "cell_type": "code",
   "execution_count": 20,
   "id": "bf558c77",
   "metadata": {},
   "outputs": [],
   "source": [
    "model.save('CatsAndDogsVGG16_fine-tuning.h5')"
   ]
  },
  {
   "cell_type": "markdown",
   "id": "7461c941",
   "metadata": {},
   "source": [
    "## 模型评估 "
   ]
  },
  {
   "cell_type": "code",
   "execution_count": 22,
   "id": "0f2f7fd9",
   "metadata": {},
   "outputs": [
    {
     "name": "stdout",
     "output_type": "stream",
     "text": [
      "Found 1000 images belonging to 2 classes.\n",
      "50/50 [==============================] - 5s 97ms/step - loss: 0.3402 - accuracy: 0.9380\n",
      "测试集准确率： 0.9380000233650208\n"
     ]
    }
   ],
   "source": [
    "test_generator = test_datagen.flow_from_directory(test_dir,\n",
    "                                                  target_size=(150, 150),\n",
    "                                                  batch_size=20,\n",
    "                                                  class_mode='binary')\n",
    "\n",
    "test_loss, test_acc = model.evaluate(test_generator, steps=50)\n",
    "print('测试集准确率：', test_acc)"
   ]
  },
  {
   "cell_type": "code",
   "execution_count": null,
   "id": "12827c12",
   "metadata": {},
   "outputs": [],
   "source": []
  },
  {
   "cell_type": "code",
   "execution_count": null,
   "id": "0a8ba0b9",
   "metadata": {},
   "outputs": [],
   "source": []
  }
 ],
 "metadata": {
  "kernelspec": {
   "display_name": "Python 3 (ipykernel)",
   "language": "python",
   "name": "python3"
  },
  "language_info": {
   "codemirror_mode": {
    "name": "ipython",
    "version": 3
   },
   "file_extension": ".py",
   "mimetype": "text/x-python",
   "name": "python",
   "nbconvert_exporter": "python",
   "pygments_lexer": "ipython3",
   "version": "3.9.12"
  },
  "toc": {
   "base_numbering": 1,
   "nav_menu": {},
   "number_sections": true,
   "sideBar": true,
   "skip_h1_title": false,
   "title_cell": "Table of Contents",
   "title_sidebar": "Contents",
   "toc_cell": false,
   "toc_position": {
    "height": "calc(100% - 180px)",
    "left": "10px",
    "top": "150px",
    "width": "279.273px"
   },
   "toc_section_display": true,
   "toc_window_display": true
  }
 },
 "nbformat": 4,
 "nbformat_minor": 5
}
